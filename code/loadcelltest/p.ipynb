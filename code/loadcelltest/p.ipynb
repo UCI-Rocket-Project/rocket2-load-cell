{
 "cells": [
  {
   "cell_type": "code",
   "execution_count": null,
   "id": "f92dedca",
   "metadata": {},
   "outputs": [],
   "source": [
    "import numpy as np\n",
    "import matplotlib.pyplot as plt\n",
    "\n",
    "\n",
    "data = np.loadtxt('loadcelldata.csv', delimiter=',')\n",
    "data[:,0] = (data[:,0] - data[0,0]) / 1000.0\n",
    "\n",
    "plt.plot(data[:,0], data[:,1])"
   ]
  }
 ],
 "metadata": {
  "kernelspec": {
   "display_name": "Python 3",
   "language": "python",
   "name": "python3"
  },
  "language_info": {
   "name": "python",
   "version": "3.13.0"
  }
 },
 "nbformat": 4,
 "nbformat_minor": 5
}
